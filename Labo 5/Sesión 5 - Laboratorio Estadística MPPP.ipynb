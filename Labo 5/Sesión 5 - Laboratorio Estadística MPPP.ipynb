{
 "cells": [
  {
   "cell_type": "markdown",
   "metadata": {},
   "source": [
    "# Sesión 5. \n",
    "## Laboratorio de Estadística. \n",
    "### MPPP, MAPP, MCP - CIDE, 2019. \n",
    "<h4 style = 'color: red;'> Jorge Juvenal Campos Ferreira</h4>"
   ]
  },
  {
   "cell_type": "markdown",
   "metadata": {},
   "source": [
    "En esta sesión, repasaremos los siguientes conceptos. \n",
    "\n",
    "**1. Dataframes/tibbles, variables y objetos.** \n",
    "\n",
    "**2. La función `pull()` para sacar una variable de un `dataframe` y convertirlo en un objeto.**\n",
    "\n",
    "**3. Bases de datos del tipo `*.shp` (geográficas)**\n",
    "\n",
    "**4. Repaso del `tidyverse`.**\n",
    "\n",
    "**5. La función `case_when()` para crear variables.**"
   ]
  },
  {
   "cell_type": "markdown",
   "metadata": {},
   "source": [
    "## Buscando bases de datos en formato `*.shp`. \n",
    "\n",
    "Las bases de datos en formato `*.shp` contienen información geográfica (bases de datos georreferenciadas) a partir de las cuales se pueden hacer mapas. Estos formatos (a diferencia de los `*.geojson` que vimos la clase pasada, son mucho más comunes, siendo prácticamente el estándar de la industria, aunque su desventaja radica en que son archivos más pesados. \n",
    "\n",
    "A pesar de esta diferencia, la forma de abrir un archivo `*.shp` es la misma que para abrir un archivo `*.geojson`, utilizando la función `sf::st_read()`. La diferencia con un archivo `*.geojson` es que es necesario haber descargado el archivo primero, y tenerlo en la computadora. \n",
    "\n",
    "Para empezar la práctica del día de hoy, descargaremos una base de datos en formato `*.shp` de la página del Sistema de Información Geográfico de la CONABIO, al cuál se puede acceder mediante la siguiente liga: http://www.conabio.gob.mx/informacion/gis/. \n",
    "\n",
    "La base que vamos a descargar será la de División política estatal 1:250000. 2018, la cual se encuentra en la sección de División Política >> Estatal. \n",
    "\n",
    "Un archivo `*.shp` generalmente viene comprimido en una carpeta `*.zip`. Para abrirlo, necesitamos extraerlo. Al "
   ]
  },
  {
   "cell_type": "code",
   "execution_count": null,
   "metadata": {},
   "outputs": [],
   "source": [
    "# 1. Sección de librerías. \n",
    "library(pacman)\n",
    "p_load(tidyverse, sf, haven, leaflet, geojsonio)"
   ]
  },
  {
   "cell_type": "code",
   "execution_count": null,
   "metadata": {
    "scrolled": true
   },
   "outputs": [],
   "source": [
    "# 2. Abrimos la base de datos. \n",
    "bd <-  st_read(\"D:/Desktop/5. Laboratorio MPPP/Sesión 5/División Municipal/muni_2018gw.shp\", \n",
    "               quiet = TRUE)\n",
    "\n",
    "# 3. Exploramos la base. \n",
    "class(bd)\n",
    "glimpse(bd)\n",
    "plot(bd, max.plot = 1)\n",
    "head(bd)"
   ]
  },
  {
   "cell_type": "markdown",
   "metadata": {},
   "source": [
    "La base previa tiene entonces 32 observaciones con 9 variables, las cuales son las siguientes: \n",
    "\n",
    "* CVE_ENT,  Clave de entidad (factor)\n",
    "* CVE_MUN,  Clave de municipio (factor)\n",
    "* CVEGEO,   Clave INEGI de Municipio\n",
    "* NOM_ENT,  Nombre de la enntidad (factor)  \n",
    "* CVE_CAP,  Clave de la Capital, (factor)  \n",
    "* NOM_MUN,  Nombre de Municipio\n",
    "* NOM_CAP,  Nombre de la Capital, (factor)  \n",
    "* AREA,     Área del Objeto, (numérico)     \n",
    "* PERIMETER,Perímetro del polígono (numérico) \n",
    "* COV_,     No sé :(     \n",
    "* COV_ID,   No sé :(   \n",
    "* geometry, Variable que almacena las coordenadas de los polígonos. \n",
    "\n",
    "<p style = 'text-align:justify;'>Igualmente, podemos observar que el objeto `bd` es de la clase `dataframe`, por lo que podemos aplicarle los verbos del tidyverse (`filter()`, `select()`, `arrange()`, `group_by()`, `summarise()`, etc...).</p> \n"
   ]
  },
  {
   "cell_type": "markdown",
   "metadata": {},
   "source": [
    "## Ejercicios. \n",
    "\n",
    "1. ¿Cuántos municipios hay en México? \n",
    "\n",
    "2. ¿Cuáles son los 5 municipios más grandes del país? \n",
    "\n",
    "3. Excluyendo a Tlaxcala... ¿Cuales son los 5 estados mas pequeños del país? \n",
    "\n",
    "4. Genere una base con los municipios de los estados del Bajío (Guanajuato, Querétaro, Aguascalientes y Jalisco). \n",
    "\n",
    "5. Haga un mapa con los municipios de su estado de orígen. \n",
    "\n",
    "6. Haga un mapa con su municipio de origen. \n",
    "\n",
    "7. Genere una variable en la base donde se vea el codigo geografico del INEGI, el estado, el municipio separados por un espacio y una comma. \n",
    "\n",
    "8. Obtenga un vector de texto con los nombres de los estados **en mayúsculas**. Este vector debe tener 32 registros (renglones). **Hint:** Utilice la función `pull()` para jalar el texto y la función `toUpper()` para cambiar los nombres a mayúsculas el texto.\n",
    "\n",
    "9. Modifique la base. Cambie el nombre del estado de 'Coahuila de Zaragoza' a \"Coahuila\", el de 'Michoacán de Ocampo' a 'Michoacán', el de 'Veracruz de Ignacio de la Llave' a 'Veracruz'. Utilice la función `mutate()` y la función `ifelse()` o la función `case_when()`.\n"
   ]
  },
  {
   "cell_type": "code",
   "execution_count": null,
   "metadata": {},
   "outputs": [],
   "source": [
    "# 1. ¿Cuántos municipios hay en México? \n",
    "bd %>% count()"
   ]
  },
  {
   "cell_type": "code",
   "execution_count": null,
   "metadata": {},
   "outputs": [],
   "source": [
    "# 2. ¿Cuáles son los 5 municipios más grandes del país? \n",
    "bd %>% arrange(Area) %>% head(n = 5) %>% select(NOM_MUN)"
   ]
  },
  {
   "cell_type": "code",
   "execution_count": null,
   "metadata": {},
   "outputs": [],
   "source": []
  },
  {
   "cell_type": "code",
   "execution_count": null,
   "metadata": {},
   "outputs": [],
   "source": []
  }
 ],
 "metadata": {
  "kernelspec": {
   "display_name": "R",
   "language": "R",
   "name": "ir"
  },
  "language_info": {
   "codemirror_mode": "r",
   "file_extension": ".r",
   "mimetype": "text/x-r-source",
   "name": "R",
   "pygments_lexer": "r",
   "version": "3.6.1"
  }
 },
 "nbformat": 4,
 "nbformat_minor": 2
}
